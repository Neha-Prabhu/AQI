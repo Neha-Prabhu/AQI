{
 "cells": [
  {
   "cell_type": "code",
   "execution_count": 6,
   "metadata": {},
   "outputs": [],
   "source": [
    "import requests \n",
    "from bs4 import BeautifulSoup "
   ]
  },
  {
   "cell_type": "code",
   "execution_count": 31,
   "metadata": {},
   "outputs": [],
   "source": [
    "archive_url = \"http://openaq-data.s3.amazonaws.com/\""
   ]
  },
  {
   "cell_type": "code",
   "execution_count": 32,
   "metadata": {},
   "outputs": [],
   "source": [
    "dwds=[]"
   ]
  },
  {
   "cell_type": "code",
   "execution_count": 40,
   "metadata": {},
   "outputs": [],
   "source": [
    "#since feb has only 28 days ran the code only till 28 for each month\n",
    "#else you can remove 1st loop and run for each month untill whatever date u want\n",
    "for i in range(1,4):\n",
    "    for j in range(1,29):\n",
    "        dwds.append(archive_url + '2018-'+str(i)+'-'+str(j)+'.csv')"
   ]
  },
  {
   "cell_type": "code",
   "execution_count": 41,
   "metadata": {},
   "outputs": [
    {
     "name": "stdout",
     "output_type": "stream",
     "text": [
      "['http://openaq-data.s3.amazonaws.com/2018-1-1.csv', 'http://openaq-data.s3.amazonaws.com/2018-1-2.csv', 'http://openaq-data.s3.amazonaws.com/2018-1-1.csv', 'http://openaq-data.s3.amazonaws.com/2018-1-2.csv', 'http://openaq-data.s3.amazonaws.com/2018-1-3.csv', 'http://openaq-data.s3.amazonaws.com/2018-1-4.csv', 'http://openaq-data.s3.amazonaws.com/2018-1-5.csv', 'http://openaq-data.s3.amazonaws.com/2018-1-6.csv', 'http://openaq-data.s3.amazonaws.com/2018-1-7.csv', 'http://openaq-data.s3.amazonaws.com/2018-1-8.csv', 'http://openaq-data.s3.amazonaws.com/2018-1-9.csv', 'http://openaq-data.s3.amazonaws.com/2018-1-10.csv', 'http://openaq-data.s3.amazonaws.com/2018-1-11.csv', 'http://openaq-data.s3.amazonaws.com/2018-1-12.csv', 'http://openaq-data.s3.amazonaws.com/2018-1-13.csv', 'http://openaq-data.s3.amazonaws.com/2018-1-14.csv', 'http://openaq-data.s3.amazonaws.com/2018-1-15.csv', 'http://openaq-data.s3.amazonaws.com/2018-1-16.csv', 'http://openaq-data.s3.amazonaws.com/2018-1-17.csv', 'http://openaq-data.s3.amazonaws.com/2018-1-18.csv', 'http://openaq-data.s3.amazonaws.com/2018-1-19.csv', 'http://openaq-data.s3.amazonaws.com/2018-1-20.csv', 'http://openaq-data.s3.amazonaws.com/2018-1-21.csv', 'http://openaq-data.s3.amazonaws.com/2018-1-22.csv', 'http://openaq-data.s3.amazonaws.com/2018-1-23.csv', 'http://openaq-data.s3.amazonaws.com/2018-1-24.csv', 'http://openaq-data.s3.amazonaws.com/2018-1-25.csv', 'http://openaq-data.s3.amazonaws.com/2018-1-26.csv', 'http://openaq-data.s3.amazonaws.com/2018-1-27.csv', 'http://openaq-data.s3.amazonaws.com/2018-1-28.csv', 'http://openaq-data.s3.amazonaws.com/2018-2-1.csv', 'http://openaq-data.s3.amazonaws.com/2018-2-2.csv', 'http://openaq-data.s3.amazonaws.com/2018-2-3.csv', 'http://openaq-data.s3.amazonaws.com/2018-2-4.csv', 'http://openaq-data.s3.amazonaws.com/2018-2-5.csv', 'http://openaq-data.s3.amazonaws.com/2018-2-6.csv', 'http://openaq-data.s3.amazonaws.com/2018-2-7.csv', 'http://openaq-data.s3.amazonaws.com/2018-2-8.csv', 'http://openaq-data.s3.amazonaws.com/2018-2-9.csv', 'http://openaq-data.s3.amazonaws.com/2018-2-10.csv', 'http://openaq-data.s3.amazonaws.com/2018-2-11.csv', 'http://openaq-data.s3.amazonaws.com/2018-2-12.csv', 'http://openaq-data.s3.amazonaws.com/2018-2-13.csv', 'http://openaq-data.s3.amazonaws.com/2018-2-14.csv', 'http://openaq-data.s3.amazonaws.com/2018-2-15.csv', 'http://openaq-data.s3.amazonaws.com/2018-2-16.csv', 'http://openaq-data.s3.amazonaws.com/2018-2-17.csv', 'http://openaq-data.s3.amazonaws.com/2018-2-18.csv', 'http://openaq-data.s3.amazonaws.com/2018-2-19.csv', 'http://openaq-data.s3.amazonaws.com/2018-2-20.csv', 'http://openaq-data.s3.amazonaws.com/2018-2-21.csv', 'http://openaq-data.s3.amazonaws.com/2018-2-22.csv', 'http://openaq-data.s3.amazonaws.com/2018-2-23.csv', 'http://openaq-data.s3.amazonaws.com/2018-2-24.csv', 'http://openaq-data.s3.amazonaws.com/2018-2-25.csv', 'http://openaq-data.s3.amazonaws.com/2018-2-26.csv', 'http://openaq-data.s3.amazonaws.com/2018-2-27.csv', 'http://openaq-data.s3.amazonaws.com/2018-2-28.csv', 'http://openaq-data.s3.amazonaws.com/2018-3-1.csv', 'http://openaq-data.s3.amazonaws.com/2018-3-2.csv', 'http://openaq-data.s3.amazonaws.com/2018-3-3.csv', 'http://openaq-data.s3.amazonaws.com/2018-3-4.csv', 'http://openaq-data.s3.amazonaws.com/2018-3-5.csv', 'http://openaq-data.s3.amazonaws.com/2018-3-6.csv', 'http://openaq-data.s3.amazonaws.com/2018-3-7.csv', 'http://openaq-data.s3.amazonaws.com/2018-3-8.csv', 'http://openaq-data.s3.amazonaws.com/2018-3-9.csv', 'http://openaq-data.s3.amazonaws.com/2018-3-10.csv', 'http://openaq-data.s3.amazonaws.com/2018-3-11.csv', 'http://openaq-data.s3.amazonaws.com/2018-3-12.csv', 'http://openaq-data.s3.amazonaws.com/2018-3-13.csv', 'http://openaq-data.s3.amazonaws.com/2018-3-14.csv', 'http://openaq-data.s3.amazonaws.com/2018-3-15.csv', 'http://openaq-data.s3.amazonaws.com/2018-3-16.csv', 'http://openaq-data.s3.amazonaws.com/2018-3-17.csv', 'http://openaq-data.s3.amazonaws.com/2018-3-18.csv', 'http://openaq-data.s3.amazonaws.com/2018-3-19.csv', 'http://openaq-data.s3.amazonaws.com/2018-3-20.csv', 'http://openaq-data.s3.amazonaws.com/2018-3-21.csv', 'http://openaq-data.s3.amazonaws.com/2018-3-22.csv', 'http://openaq-data.s3.amazonaws.com/2018-3-23.csv', 'http://openaq-data.s3.amazonaws.com/2018-3-24.csv', 'http://openaq-data.s3.amazonaws.com/2018-3-25.csv', 'http://openaq-data.s3.amazonaws.com/2018-3-26.csv', 'http://openaq-data.s3.amazonaws.com/2018-3-27.csv', 'http://openaq-data.s3.amazonaws.com/2018-3-28.csv', 'http://openaq-data.s3.amazonaws.com/2018-1-1.csv', 'http://openaq-data.s3.amazonaws.com/2018-1-2.csv', 'http://openaq-data.s3.amazonaws.com/2018-1-3.csv', 'http://openaq-data.s3.amazonaws.com/2018-1-4.csv', 'http://openaq-data.s3.amazonaws.com/2018-1-5.csv', 'http://openaq-data.s3.amazonaws.com/2018-1-6.csv', 'http://openaq-data.s3.amazonaws.com/2018-1-7.csv', 'http://openaq-data.s3.amazonaws.com/2018-1-8.csv', 'http://openaq-data.s3.amazonaws.com/2018-1-9.csv', 'http://openaq-data.s3.amazonaws.com/2018-1-10.csv', 'http://openaq-data.s3.amazonaws.com/2018-1-11.csv', 'http://openaq-data.s3.amazonaws.com/2018-1-12.csv', 'http://openaq-data.s3.amazonaws.com/2018-1-13.csv', 'http://openaq-data.s3.amazonaws.com/2018-1-14.csv', 'http://openaq-data.s3.amazonaws.com/2018-1-15.csv', 'http://openaq-data.s3.amazonaws.com/2018-1-16.csv', 'http://openaq-data.s3.amazonaws.com/2018-1-17.csv', 'http://openaq-data.s3.amazonaws.com/2018-1-18.csv', 'http://openaq-data.s3.amazonaws.com/2018-1-19.csv', 'http://openaq-data.s3.amazonaws.com/2018-1-20.csv', 'http://openaq-data.s3.amazonaws.com/2018-1-21.csv', 'http://openaq-data.s3.amazonaws.com/2018-1-22.csv', 'http://openaq-data.s3.amazonaws.com/2018-1-23.csv', 'http://openaq-data.s3.amazonaws.com/2018-1-24.csv', 'http://openaq-data.s3.amazonaws.com/2018-1-25.csv', 'http://openaq-data.s3.amazonaws.com/2018-1-26.csv', 'http://openaq-data.s3.amazonaws.com/2018-1-27.csv', 'http://openaq-data.s3.amazonaws.com/2018-1-28.csv', 'http://openaq-data.s3.amazonaws.com/2018-2-1.csv', 'http://openaq-data.s3.amazonaws.com/2018-2-2.csv', 'http://openaq-data.s3.amazonaws.com/2018-2-3.csv', 'http://openaq-data.s3.amazonaws.com/2018-2-4.csv', 'http://openaq-data.s3.amazonaws.com/2018-2-5.csv', 'http://openaq-data.s3.amazonaws.com/2018-2-6.csv', 'http://openaq-data.s3.amazonaws.com/2018-2-7.csv', 'http://openaq-data.s3.amazonaws.com/2018-2-8.csv', 'http://openaq-data.s3.amazonaws.com/2018-2-9.csv', 'http://openaq-data.s3.amazonaws.com/2018-2-10.csv', 'http://openaq-data.s3.amazonaws.com/2018-2-11.csv', 'http://openaq-data.s3.amazonaws.com/2018-2-12.csv', 'http://openaq-data.s3.amazonaws.com/2018-2-13.csv', 'http://openaq-data.s3.amazonaws.com/2018-2-14.csv', 'http://openaq-data.s3.amazonaws.com/2018-2-15.csv', 'http://openaq-data.s3.amazonaws.com/2018-2-16.csv', 'http://openaq-data.s3.amazonaws.com/2018-2-17.csv', 'http://openaq-data.s3.amazonaws.com/2018-2-18.csv', 'http://openaq-data.s3.amazonaws.com/2018-2-19.csv', 'http://openaq-data.s3.amazonaws.com/2018-2-20.csv', 'http://openaq-data.s3.amazonaws.com/2018-2-21.csv', 'http://openaq-data.s3.amazonaws.com/2018-2-22.csv', 'http://openaq-data.s3.amazonaws.com/2018-2-23.csv', 'http://openaq-data.s3.amazonaws.com/2018-2-24.csv', 'http://openaq-data.s3.amazonaws.com/2018-2-25.csv', 'http://openaq-data.s3.amazonaws.com/2018-2-26.csv', 'http://openaq-data.s3.amazonaws.com/2018-2-27.csv', 'http://openaq-data.s3.amazonaws.com/2018-2-28.csv', 'http://openaq-data.s3.amazonaws.com/2018-3-1.csv', 'http://openaq-data.s3.amazonaws.com/2018-3-2.csv', 'http://openaq-data.s3.amazonaws.com/2018-3-3.csv', 'http://openaq-data.s3.amazonaws.com/2018-3-4.csv', 'http://openaq-data.s3.amazonaws.com/2018-3-5.csv', 'http://openaq-data.s3.amazonaws.com/2018-3-6.csv', 'http://openaq-data.s3.amazonaws.com/2018-3-7.csv', 'http://openaq-data.s3.amazonaws.com/2018-3-8.csv', 'http://openaq-data.s3.amazonaws.com/2018-3-9.csv', 'http://openaq-data.s3.amazonaws.com/2018-3-10.csv', 'http://openaq-data.s3.amazonaws.com/2018-3-11.csv', 'http://openaq-data.s3.amazonaws.com/2018-3-12.csv', 'http://openaq-data.s3.amazonaws.com/2018-3-13.csv', 'http://openaq-data.s3.amazonaws.com/2018-3-14.csv', 'http://openaq-data.s3.amazonaws.com/2018-3-15.csv', 'http://openaq-data.s3.amazonaws.com/2018-3-16.csv', 'http://openaq-data.s3.amazonaws.com/2018-3-17.csv', 'http://openaq-data.s3.amazonaws.com/2018-3-18.csv', 'http://openaq-data.s3.amazonaws.com/2018-3-19.csv', 'http://openaq-data.s3.amazonaws.com/2018-3-20.csv', 'http://openaq-data.s3.amazonaws.com/2018-3-21.csv', 'http://openaq-data.s3.amazonaws.com/2018-3-22.csv', 'http://openaq-data.s3.amazonaws.com/2018-3-23.csv', 'http://openaq-data.s3.amazonaws.com/2018-3-24.csv', 'http://openaq-data.s3.amazonaws.com/2018-3-25.csv', 'http://openaq-data.s3.amazonaws.com/2018-3-26.csv', 'http://openaq-data.s3.amazonaws.com/2018-3-27.csv', 'http://openaq-data.s3.amazonaws.com/2018-3-28.csv']\n"
     ]
    }
   ],
   "source": [
    "print(dwds)"
   ]
  },
  {
   "cell_type": "code",
   "execution_count": 38,
   "metadata": {},
   "outputs": [],
   "source": [
    "def download_cvs_series(dwds): \n",
    "  \n",
    "    for link in dwds: \n",
    "  \n",
    "        '''iterate through all links in video_links \n",
    "        and download them one by one'''\n",
    "          \n",
    "        # obtain filename by splitting url and getting  \n",
    "        # last string \n",
    "        file_name = link.split('/')[-1]    \n",
    "  \n",
    "        print(\"Downloading file:%s\"%file_name)\n",
    "          \n",
    "        # create response object \n",
    "        r = requests.get(link, stream = True) \n",
    "          \n",
    "        # download started \n",
    "        with open(file_name, 'wb') as f: \n",
    "            for chunk in r.iter_content(chunk_size = 1024*1024): \n",
    "                if chunk: \n",
    "                    f.write(chunk) \n",
    "          \n",
    "        print (\"%s downloaded!\\n\"%file_name)\n",
    "  \n",
    "    print(\"All files downloaded!\")\n",
    "    return "
   ]
  },
  {
   "cell_type": "code",
   "execution_count": 36,
   "metadata": {},
   "outputs": [
    {
     "name": "stdout",
     "output_type": "stream",
     "text": [
      "Downloading file:2018-1-1.csv\n",
      "2018-1-1.csv downloaded!\n",
      "\n",
      "Downloading file:2018-1-2.csv\n",
      "2018-1-2.csv downloaded!\n",
      "\n",
      "All videos downloaded!\n"
     ]
    }
   ],
   "source": [
    "download_csv_series(dwds)"
   ]
  },
  {
   "cell_type": "code",
   "execution_count": null,
   "metadata": {},
   "outputs": [],
   "source": []
  }
 ],
 "metadata": {
  "kernelspec": {
   "display_name": "Python 3",
   "language": "python",
   "name": "python3"
  },
  "language_info": {
   "codemirror_mode": {
    "name": "ipython",
    "version": 3
   },
   "file_extension": ".py",
   "mimetype": "text/x-python",
   "name": "python",
   "nbconvert_exporter": "python",
   "pygments_lexer": "ipython3",
   "version": "3.7.3"
  }
 },
 "nbformat": 4,
 "nbformat_minor": 2
}
